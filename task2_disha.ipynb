{
  "nbformat": 4,
  "nbformat_minor": 0,
  "metadata": {
    "colab": {
      "name": "task2 disha",
      "provenance": [],
      "collapsed_sections": [],
      "authorship_tag": "ABX9TyPhMY9I4zi6RpOeoQMKGZwq",
      "include_colab_link": true
    },
    "kernelspec": {
      "name": "python3",
      "display_name": "Python 3"
    }
  },
  "cells": [
    {
      "cell_type": "markdown",
      "metadata": {
        "id": "view-in-github",
        "colab_type": "text"
      },
      "source": [
        "<a href=\"https://colab.research.google.com/github/dishaay2898/Soft-Computing-Lab-2020/blob/master/task2_disha.ipynb\" target=\"_parent\"><img src=\"https://colab.research.google.com/assets/colab-badge.svg\" alt=\"Open In Colab\"/></a>"
      ]
    },
    {
      "cell_type": "code",
      "metadata": {
        "id": "i4MzKAdpwqxX",
        "outputId": "d5f155b4-d1aa-43eb-8fcd-a59395e0c7a3",
        "colab": {
          "base_uri": "https://localhost:8080/",
          "height": 136
        }
      },
      "source": [
        "a = 9\n",
        "b = 4\n",
        "  \n",
        "# Addition of numbers  \n",
        "add = a + b  \n",
        "  \n",
        "# Subtraction of numbers  \n",
        "sub = a - b  \n",
        "  \n",
        "# Multiplication of number  \n",
        "mul = a * b  \n",
        "  \n",
        "# Division of number  \n",
        "div1 = a / b  \n",
        "  \n",
        "# Division(floor) of number  \n",
        "div2 = a // b  \n",
        "  \n",
        "# Modulo of both number  \n",
        "mod = a % b  \n",
        "  \n",
        "# Power \n",
        "p = a ** b \n",
        "  \n",
        "# print results  \n",
        "print(add)  \n",
        "print(sub)  \n",
        "print(mul)  \n",
        "print(div1)  \n",
        "print(div2)  \n",
        "print(mod) \n",
        "print(p) "
      ],
      "execution_count": null,
      "outputs": [
        {
          "output_type": "stream",
          "text": [
            "13\n",
            "5\n",
            "36\n",
            "2.25\n",
            "2\n",
            "1\n",
            "6561\n"
          ],
          "name": "stdout"
        }
      ]
    },
    {
      "cell_type": "markdown",
      "metadata": {
        "id": "nyuXyXKWyujH"
      },
      "source": [
        ""
      ]
    },
    {
      "cell_type": "markdown",
      "metadata": {
        "id": "nLyaLbNPyvc4"
      },
      "source": [
        ""
      ]
    }
  ]
}